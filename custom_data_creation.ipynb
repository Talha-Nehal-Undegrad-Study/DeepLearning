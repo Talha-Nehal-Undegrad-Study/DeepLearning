{
  "nbformat": 4,
  "nbformat_minor": 0,
  "metadata": {
    "colab": {
      "provenance": [],
      "gpuType": "T4",
      "include_colab_link": true
    },
    "kernelspec": {
      "name": "python3",
      "display_name": "Python 3"
    },
    "language_info": {
      "name": "python"
    },
    "accelerator": "GPU"
  },
  "cells": [
    {
      "cell_type": "markdown",
      "metadata": {
        "id": "view-in-github",
        "colab_type": "text"
      },
      "source": [
        "<a href=\"https://colab.research.google.com/github/TalhaAhmed2000/DeepLearning/blob/main/custom_data_creation.ipynb\" target=\"_parent\"><img src=\"https://colab.research.google.com/assets/colab-badge.svg\" alt=\"Open In Colab\"/></a>"
      ]
    },
    {
      "cell_type": "code",
      "source": [
        "import numpy as np\n",
        "import matplotlib.pyplot as plt"
      ],
      "metadata": {
        "id": "sNR57SWh_tmA"
      },
      "execution_count": 1,
      "outputs": []
    },
    {
      "cell_type": "code",
      "source": [
        "# Importing Relevant Libraries\n",
        "import requests\n",
        "from pathlib import Path\n",
        "import os\n",
        "import re\n",
        "import random\n",
        "import shutil\n",
        "import zipfile\n",
        "\n",
        "# Mounting Drive to access root directory\n",
        "from google.colab import drive\n",
        "drive.mount('/content/drive')"
      ],
      "metadata": {
        "colab": {
          "base_uri": "https://localhost:8080/"
        },
        "id": "MvF0rHTSCapC",
        "outputId": "bfa931da-6d6f-4185-812c-d581a96b6112"
      },
      "execution_count": 2,
      "outputs": [
        {
          "output_type": "stream",
          "name": "stdout",
          "text": [
            "Mounted at /content/drive\n"
          ]
        }
      ]
    },
    {
      "cell_type": "markdown",
      "source": [
        "### Downloading & Processing of Data for Task 1 - Image Classification and Task 2 - Person Segmentation\n",
        "\n",
        "\n"
      ],
      "metadata": {
        "id": "NNKzndfyJ5ZY"
      }
    },
    {
      "cell_type": "code",
      "source": [
        "# Clone Github Repo to access data\n",
        "!git clone https://github.com/TalhaAhmed2000/DeepLearning.git"
      ],
      "metadata": {
        "colab": {
          "base_uri": "https://localhost:8080/"
        },
        "id": "Zu4b_3TT1bEM",
        "outputId": "07128ac4-ea2b-4e8c-da3d-f5cabadd3457"
      },
      "execution_count": 3,
      "outputs": [
        {
          "output_type": "stream",
          "name": "stdout",
          "text": [
            "Cloning into 'DeepLearning'...\n",
            "remote: Enumerating objects: 15619, done.\u001b[K\n",
            "remote: Total 15619 (delta 0), reused 0 (delta 0), pack-reused 15619\u001b[K\n",
            "Receiving objects: 100% (15619/15619), 2.26 GiB | 19.96 MiB/s, done.\n",
            "Resolving deltas: 100% (266/266), done.\n",
            "Updating files: 100% (19431/19431), done.\n"
          ]
        }
      ]
    },
    {
      "cell_type": "code",
      "source": [
        "# Changing `Pet Breeds` Dataset to have the following structure:\n",
        "\n",
        "  # data/ <- overall dataset folder\n",
        "  #   train/ <- training images\n",
        "  #       siamese cat/ <- class name as folder name\n",
        "  #           image01.jpg\n",
        "  #           image02.jpg\n",
        "  #           ...\n",
        "  #       ragdoll cat/\n",
        "  #           image24.jpg\n",
        "  #           image25.jpg\n",
        "  #           ...\n",
        "  #       sphinx/\n",
        "  #           image37.jpg\n",
        "  #           ...\n",
        "  #   test/ <- testing images\n",
        "  #       siamese cat/ <- class name as folder name\n",
        "  #           image101.jpg\n",
        "  #           image102.jpg\n",
        "  #           ...\n",
        "  #       ragdoll cat/\n",
        "  #           image124.jpg\n",
        "  #           image125.jpg\n",
        "  #           ...\n",
        "  #       sphinx/\n",
        "  #           image137.jpg\n",
        "  #           ..."
      ],
      "metadata": {
        "id": "xN6LXyG-oLtE"
      },
      "execution_count": 5,
      "outputs": []
    },
    {
      "cell_type": "code",
      "source": [
        "# Path for the pet_breeds data\n",
        "root_path = Path('/content/DeepLearning/Task 1')\n",
        "image_path = root_path / 'Pet_Breeds'\n",
        "\n",
        "breeds = []\n",
        "\n",
        "# Observing how the data is structured and side by side store their folder name (aka breed name) in a list for later\n",
        "for i, (dirpath, dirnames, filenames) in enumerate(os.walk(image_path)):\n",
        "  print(f\"There are {len(dirnames)} directories and {len(filenames)} images in '{dirpath}'.\")\n",
        "  if i != 0:\n",
        "    breeds.append(os.path.basename(dirpath))"
      ],
      "metadata": {
        "colab": {
          "base_uri": "https://localhost:8080/"
        },
        "id": "puxN7vqDptxX",
        "outputId": "7eeaf34b-3a8b-4caa-e192-45b60c425c05"
      },
      "execution_count": 14,
      "outputs": [
        {
          "output_type": "stream",
          "name": "stdout",
          "text": [
            "There are 23 directories and 0 images in '/content/DeepLearning/Task 1/Pet_Breeds'.\n",
            "There are 0 directories and 170 images in '/content/DeepLearning/Task 1/Pet_Breeds/rottwiler'.\n",
            "There are 0 directories and 170 images in '/content/DeepLearning/Task 1/Pet_Breeds/beagle'.\n",
            "There are 0 directories and 170 images in '/content/DeepLearning/Task 1/Pet_Breeds/yorkshire terrier'.\n",
            "There are 0 directories and 170 images in '/content/DeepLearning/Task 1/Pet_Breeds/husky'.\n",
            "There are 0 directories and 170 images in '/content/DeepLearning/Task 1/Pet_Breeds/chihuahua'.\n",
            "There are 0 directories and 170 images in '/content/DeepLearning/Task 1/Pet_Breeds/maine coon'.\n",
            "There are 0 directories and 170 images in '/content/DeepLearning/Task 1/Pet_Breeds/corgi'.\n",
            "There are 0 directories and 170 images in '/content/DeepLearning/Task 1/Pet_Breeds/abyssinian'.\n",
            "There are 0 directories and 170 images in '/content/DeepLearning/Task 1/Pet_Breeds/german shepherd'.\n",
            "There are 0 directories and 170 images in '/content/DeepLearning/Task 1/Pet_Breeds/shiba inu'.\n",
            "There are 0 directories and 170 images in '/content/DeepLearning/Task 1/Pet_Breeds/pomeranian'.\n",
            "There are 0 directories and 170 images in '/content/DeepLearning/Task 1/Pet_Breeds/ragdoll cat'.\n",
            "There are 0 directories and 141 images in '/content/DeepLearning/Task 1/Pet_Breeds/mumbai cat'.\n",
            "There are 0 directories and 170 images in '/content/DeepLearning/Task 1/Pet_Breeds/bulldog'.\n",
            "There are 0 directories and 170 images in '/content/DeepLearning/Task 1/Pet_Breeds/sphynx'.\n",
            "There are 0 directories and 170 images in '/content/DeepLearning/Task 1/Pet_Breeds/pug'.\n",
            "There are 0 directories and 170 images in '/content/DeepLearning/Task 1/Pet_Breeds/persian cat'.\n",
            "There are 0 directories and 170 images in '/content/DeepLearning/Task 1/Pet_Breeds/labrador'.\n",
            "There are 0 directories and 170 images in '/content/DeepLearning/Task 1/Pet_Breeds/golden retriever'.\n",
            "There are 0 directories and 170 images in '/content/DeepLearning/Task 1/Pet_Breeds/dachshund'.\n",
            "There are 0 directories and 170 images in '/content/DeepLearning/Task 1/Pet_Breeds/american shorthair'.\n",
            "There are 0 directories and 170 images in '/content/DeepLearning/Task 1/Pet_Breeds/siamese cat'.\n",
            "There are 0 directories and 170 images in '/content/DeepLearning/Task 1/Pet_Breeds/boxer'.\n"
          ]
        }
      ]
    },
    {
      "cell_type": "code",
      "source": [
        "# Lets see the list\n",
        "breeds, len(breeds)"
      ],
      "metadata": {
        "colab": {
          "base_uri": "https://localhost:8080/"
        },
        "id": "ta-qQYTvrNM8",
        "outputId": "c9cf5119-5712-42a8-9cc9-b87578917271"
      },
      "execution_count": 17,
      "outputs": [
        {
          "output_type": "execute_result",
          "data": {
            "text/plain": [
              "(['rottwiler',\n",
              "  'beagle',\n",
              "  'yorkshire terrier',\n",
              "  'husky',\n",
              "  'chihuahua',\n",
              "  'maine coon',\n",
              "  'corgi',\n",
              "  'abyssinian',\n",
              "  'german shepherd',\n",
              "  'shiba inu',\n",
              "  'pomeranian',\n",
              "  'ragdoll cat',\n",
              "  'mumbai cat',\n",
              "  'bulldog',\n",
              "  'sphynx',\n",
              "  'pug',\n",
              "  'persian cat',\n",
              "  'labrador',\n",
              "  'golden retriever',\n",
              "  'dachshund',\n",
              "  'american shorthair',\n",
              "  'siamese cat',\n",
              "  'boxer'],\n",
              " 23)"
            ]
          },
          "metadata": {},
          "execution_count": 17
        }
      ]
    },
    {
      "cell_type": "code",
      "source": [
        "def shuffle_and_split_images(source_folder: Path,\n",
        "                             destination_folder_1: Path,\n",
        "                             destination_folder_2: Path,\n",
        "                             split_ratio: float = 0.8):\n",
        "\n",
        "  \"\"\"\n",
        "  Transforms a file structure like that of pet breeds into the one below\n",
        "    data/ <- overall dataset folder\n",
        "    train/ <- training images\n",
        "        siamese cat/ <- class name as folder name\n",
        "            image01.jpg\n",
        "            image02.jpg\n",
        "            ...\n",
        "        ragdoll cat/\n",
        "            image24.jpg\n",
        "            image25.jpg\n",
        "            ...\n",
        "        sphinx/\n",
        "            image37.jpg\n",
        "            ...\n",
        "    test/ <- testing images\n",
        "        siamese cat/ <- class name as folder name\n",
        "            image101.jpg\n",
        "            image102.jpg\n",
        "            ...\n",
        "        ragdoll cat/\n",
        "            image124.jpg\n",
        "            image125.jpg\n",
        "            ...\n",
        "        sphinx/\n",
        "            image137.jpg\n",
        "            ...\n",
        "  Args:\n",
        "  source_folder (Path): The directory where the data is stored intially\n",
        "  destination_folder_1 (Path): The train directory\n",
        "  destination_folder_2 (Path): The test directory\n",
        "  split_ratio (float): The ratio by which to split each breed folder randomly and select that \"split_ratio\" * total_images for train and (1- split_ratio) * total_images for test. Defaults to 0.8\n",
        "  \"\"\"\n",
        "  # Get the list of image files in the source folder\n",
        "  image_files = os.listdir(source_folder)\n",
        "\n",
        "  # Randomly shuffle the image files\n",
        "  random.shuffle(image_files)\n",
        "\n",
        "  # Calculate the number of images for each destination folder based on the split ratio\n",
        "  num_images_1 = int(len(image_files) * split_ratio)\n",
        "  num_images_2 = len(image_files) - num_images_1\n",
        "\n",
        "  # Create the destination folders if they don't exist\n",
        "  os.makedirs(destination_folder_1, exist_ok = True)\n",
        "  os.makedirs(destination_folder_2, exist_ok = True)\n",
        "\n",
        "  # Copy the first num_images_1 images to destination_folder_1\n",
        "  for i in range(num_images_1):\n",
        "      src_path = os.path.join(source_folder, image_files[i])\n",
        "      dst_path = os.path.join(destination_folder_1, image_files[i])\n",
        "      shutil.copy2(src_path, dst_path)\n",
        "\n",
        "  # Copy the remaining images to destination_folder_2\n",
        "  for i in range(num_images_1, len(image_files)):\n",
        "      src_path = os.path.join(source_folder, image_files[i])\n",
        "      dst_path = os.path.join(destination_folder_2, image_files[i])\n",
        "      shutil.copy2(src_path, dst_path)"
      ],
      "metadata": {
        "id": "rQSnz6gPplQZ"
      },
      "execution_count": 24,
      "outputs": []
    },
    {
      "cell_type": "code",
      "source": [
        "data_path = Path('data/')\n",
        "data_path.mkdir(parents = True, exist_ok = True)\n",
        "\n",
        "# Create Path for data to go in\n",
        "\n",
        "breed_train_dir = Path(f'data/pet_breeds/train')\n",
        "breed_test_dir = Path(f'data/pet_breeds/test')\n",
        "\n",
        "# Make the directories\n",
        "breed_train_dir.mkdir(parents = True, exist_ok = True)\n",
        "breed_test_dir.mkdir(parents = True, exist_ok = True)"
      ],
      "metadata": {
        "id": "H-1rPFuStlk8"
      },
      "execution_count": 19,
      "outputs": []
    },
    {
      "cell_type": "code",
      "source": [
        "# Using the above defined function on each breed folder to get the required structure\n",
        "\n",
        "for breed in breeds:\n",
        "  source_folder = image_path / breed\n",
        "  dest_1 = breed_train_dir / breed\n",
        "  dest_2 = breed_test_dir / breed\n",
        "  shuffle_and_split_images(source_folder, dest_1, dest_2, split_ratio = 0.8)"
      ],
      "metadata": {
        "id": "qEiJWqDzumyk"
      },
      "execution_count": 26,
      "outputs": []
    },
    {
      "cell_type": "code",
      "source": [
        "# Verifying if split was done correctly\n",
        "for dirpath, dirnames, filenames in os.walk('/content/data/'):\n",
        "  print(f\"There are {len(dirnames)} directories and {len(filenames)} images in '{dirpath}'.\")"
      ],
      "metadata": {
        "colab": {
          "base_uri": "https://localhost:8080/"
        },
        "id": "zRQYf4cYxI3d",
        "outputId": "cb410283-facc-40f1-e6b2-1d929d0e6dbb"
      },
      "execution_count": 27,
      "outputs": [
        {
          "output_type": "stream",
          "name": "stdout",
          "text": [
            "There are 1 directories and 0 images in '/content/data/'.\n",
            "There are 2 directories and 0 images in '/content/data/pet_breeds'.\n",
            "There are 23 directories and 0 images in '/content/data/pet_breeds/train'.\n",
            "There are 0 directories and 136 images in '/content/data/pet_breeds/train/rottwiler'.\n",
            "There are 0 directories and 136 images in '/content/data/pet_breeds/train/beagle'.\n",
            "There are 0 directories and 136 images in '/content/data/pet_breeds/train/yorkshire terrier'.\n",
            "There are 0 directories and 136 images in '/content/data/pet_breeds/train/husky'.\n",
            "There are 0 directories and 136 images in '/content/data/pet_breeds/train/chihuahua'.\n",
            "There are 0 directories and 136 images in '/content/data/pet_breeds/train/maine coon'.\n",
            "There are 0 directories and 136 images in '/content/data/pet_breeds/train/corgi'.\n",
            "There are 0 directories and 136 images in '/content/data/pet_breeds/train/abyssinian'.\n",
            "There are 0 directories and 136 images in '/content/data/pet_breeds/train/german shepherd'.\n",
            "There are 0 directories and 136 images in '/content/data/pet_breeds/train/shiba inu'.\n",
            "There are 0 directories and 136 images in '/content/data/pet_breeds/train/pomeranian'.\n",
            "There are 0 directories and 136 images in '/content/data/pet_breeds/train/ragdoll cat'.\n",
            "There are 0 directories and 112 images in '/content/data/pet_breeds/train/mumbai cat'.\n",
            "There are 0 directories and 136 images in '/content/data/pet_breeds/train/bulldog'.\n",
            "There are 0 directories and 136 images in '/content/data/pet_breeds/train/sphynx'.\n",
            "There are 0 directories and 136 images in '/content/data/pet_breeds/train/pug'.\n",
            "There are 0 directories and 136 images in '/content/data/pet_breeds/train/persian cat'.\n",
            "There are 0 directories and 136 images in '/content/data/pet_breeds/train/labrador'.\n",
            "There are 0 directories and 136 images in '/content/data/pet_breeds/train/golden retriever'.\n",
            "There are 0 directories and 136 images in '/content/data/pet_breeds/train/dachshund'.\n",
            "There are 0 directories and 136 images in '/content/data/pet_breeds/train/american shorthair'.\n",
            "There are 0 directories and 136 images in '/content/data/pet_breeds/train/siamese cat'.\n",
            "There are 0 directories and 136 images in '/content/data/pet_breeds/train/boxer'.\n",
            "There are 23 directories and 0 images in '/content/data/pet_breeds/test'.\n",
            "There are 0 directories and 34 images in '/content/data/pet_breeds/test/rottwiler'.\n",
            "There are 0 directories and 34 images in '/content/data/pet_breeds/test/beagle'.\n",
            "There are 0 directories and 34 images in '/content/data/pet_breeds/test/yorkshire terrier'.\n",
            "There are 0 directories and 34 images in '/content/data/pet_breeds/test/husky'.\n",
            "There are 0 directories and 34 images in '/content/data/pet_breeds/test/chihuahua'.\n",
            "There are 0 directories and 34 images in '/content/data/pet_breeds/test/maine coon'.\n",
            "There are 0 directories and 34 images in '/content/data/pet_breeds/test/corgi'.\n",
            "There are 0 directories and 34 images in '/content/data/pet_breeds/test/abyssinian'.\n",
            "There are 0 directories and 34 images in '/content/data/pet_breeds/test/german shepherd'.\n",
            "There are 0 directories and 34 images in '/content/data/pet_breeds/test/shiba inu'.\n",
            "There are 0 directories and 34 images in '/content/data/pet_breeds/test/pomeranian'.\n",
            "There are 0 directories and 34 images in '/content/data/pet_breeds/test/ragdoll cat'.\n",
            "There are 0 directories and 29 images in '/content/data/pet_breeds/test/mumbai cat'.\n",
            "There are 0 directories and 34 images in '/content/data/pet_breeds/test/bulldog'.\n",
            "There are 0 directories and 34 images in '/content/data/pet_breeds/test/sphynx'.\n",
            "There are 0 directories and 34 images in '/content/data/pet_breeds/test/pug'.\n",
            "There are 0 directories and 34 images in '/content/data/pet_breeds/test/persian cat'.\n",
            "There are 0 directories and 34 images in '/content/data/pet_breeds/test/labrador'.\n",
            "There are 0 directories and 34 images in '/content/data/pet_breeds/test/golden retriever'.\n",
            "There are 0 directories and 34 images in '/content/data/pet_breeds/test/dachshund'.\n",
            "There are 0 directories and 34 images in '/content/data/pet_breeds/test/american shorthair'.\n",
            "There are 0 directories and 34 images in '/content/data/pet_breeds/test/siamese cat'.\n",
            "There are 0 directories and 34 images in '/content/data/pet_breeds/test/boxer'.\n"
          ]
        }
      ]
    },
    {
      "cell_type": "markdown",
      "source": [
        "Approximately 135 images for train and 35 for test per breed"
      ],
      "metadata": {
        "id": "MEXEScvvxTXx"
      }
    },
    {
      "cell_type": "code",
      "source": [
        "# Standard Procedure to clone back to github. Avoided to show as it contains sensitive info"
      ],
      "metadata": {
        "id": "vhKbi5_BxSq_"
      },
      "execution_count": 28,
      "outputs": []
    },
    {
      "cell_type": "code",
      "source": [
        "# Moving to do the same for the mask segmentation dataset. Very similar to how we did the pet breeds dataset except now we have additional two sub-folders in each train and test\n",
        "# specifying the ground truth masks for train and test images respecitively. Hence the function will be slightly altered but the main idea remains the same\n",
        "\n",
        "# We want to convert this into a structure like the following:\n",
        "\n",
        "### data --> images --> train\n",
        "### data --> images --> test\n",
        "### data --> masks --> train\n",
        "### data --> masks --> test\n",
        "\n",
        "# Note: data represents the root directory and it contains two subfolders, images and mask with each of them having two further subfolders train and test.\n",
        "\n",
        "# Example. data/images/train/img.png has its corresponding ground truth mask in data/mas/train/img.png"
      ],
      "metadata": {
        "id": "OnoKgDRNyuo1"
      },
      "execution_count": 31,
      "outputs": []
    },
    {
      "cell_type": "code",
      "source": [
        "# Path for the mask data\n",
        "root_path = Path('/content/DeepLearning/Task 2/segmentation_mask_image')\n",
        "image_path = root_path / 'images'\n",
        "mask_path = root_path / 'masks'\n",
        "\n",
        "# Observing how the data is structured\n",
        "for dirpath, dirnames, filenames in os.walk(root_path):\n",
        "  print(f\"There are {len(dirnames)} directories and {len(filenames)} images in '{dirpath}'.\")"
      ],
      "metadata": {
        "colab": {
          "base_uri": "https://localhost:8080/"
        },
        "id": "zo1EI6HBag1d",
        "outputId": "065db949-b1ac-4fa4-ce43-54e5c4502ded"
      },
      "execution_count": 29,
      "outputs": [
        {
          "output_type": "stream",
          "name": "stdout",
          "text": [
            "There are 3 directories and 0 images in '/content/DeepLearning/Task 2/segmentation_mask_image'.\n",
            "There are 0 directories and 1192 images in '/content/DeepLearning/Task 2/segmentation_mask_image/masks'.\n",
            "There are 0 directories and 1192 images in '/content/DeepLearning/Task 2/segmentation_mask_image/collages'.\n",
            "There are 0 directories and 1192 images in '/content/DeepLearning/Task 2/segmentation_mask_image/images'.\n"
          ]
        }
      ]
    },
    {
      "cell_type": "code",
      "source": [
        "data_path = Path('data/')\n",
        "data_path.mkdir(parents = True, exist_ok = True)\n",
        "\n",
        "# Create Path for data to go in\n",
        "\n",
        "img_train_dir = f'data/images/train'\n",
        "img_test_dir = f'data/images/test'\n",
        "\n",
        "mask_train_dir = f'data/mask/train'\n",
        "mask_test_dir = f'data/mask/test'\n",
        "\n",
        "img_target_train = Path(img_train_dir)\n",
        "mask_target_train = Path(mask_train_dir)\n",
        "\n",
        "img_target_test = Path(img_test_dir)\n",
        "mask_target_test = Path(mask_test_dir)\n",
        "\n",
        "# Make the directories\n",
        "img_target_train.mkdir(parents = True, exist_ok = True)\n",
        "mask_target_train.mkdir(parents = True, exist_ok = True)\n",
        "mask_target_test.mkdir(parents = True, exist_ok = True)\n",
        "img_target_test.mkdir(parents = True, exist_ok = True)\n"
      ],
      "metadata": {
        "id": "OxVQZa6YZjFY"
      },
      "execution_count": 32,
      "outputs": []
    },
    {
      "cell_type": "code",
      "source": [
        "random.seed(42)\n",
        "def shuffle_and_split_images(image_path, mask_path, destination_folder_1, destination_folder_2, destination_folder_3, destination_folder_4, split_ratio, random_list):\n",
        "    # Get the list of image files in the source folder\n",
        "    image_files = random_list\n",
        "\n",
        "    # Calculate the number of images for each destination folder based on the split ratio\n",
        "    num_images_1 = int(len(image_files) * split_ratio)\n",
        "    num_masks_1 = int(len(image_files) * split_ratio)\n",
        "\n",
        "    num_images_2 = len(image_files) - num_images_1\n",
        "    num_masks_2 = len(image_files) - num_images_1\n",
        "\n",
        "    # Create the destination folders if they don't exist\n",
        "    os.makedirs(destination_folder_1, exist_ok = True)\n",
        "    os.makedirs(destination_folder_2, exist_ok = True)\n",
        "    os.makedirs(destination_folder_3, exist_ok = True)\n",
        "    os.makedirs(destination_folder_4, exist_ok = True)\n",
        "\n",
        "    # Copy the first num_images_1 images to destination_folder_1 --> img_train\n",
        "    for i in range(num_images_1):\n",
        "        src_path = os.path.join(image_path, image_files[i])\n",
        "        dst_path = os.path.join(destination_folder_1, image_files[i])\n",
        "        shutil.copy2(src_path, dst_path)\n",
        "\n",
        "    # Copy the remaining images to destination_folder_2 --> img_test\n",
        "    for i in range(num_images_1, len(image_files)):\n",
        "        src_path = os.path.join(image_path, image_files[i])\n",
        "        dst_path = os.path.join(destination_folder_2, image_files[i])\n",
        "        shutil.copy2(src_path, dst_path)\n",
        "\n",
        "    # Copy the first num_masks_1 images to destination_folder_3 --> masks_train\n",
        "    for i in range(num_masks_1):\n",
        "        src_path = os.path.join(mask_path, image_files[i])\n",
        "        dst_path = os.path.join(destination_folder_3, image_files[i])\n",
        "        shutil.copy2(src_path, dst_path)\n",
        "\n",
        "    # Copy the remaining masks to destination_folder_4 --> mask_test\n",
        "    for i in range(num_masks_1, len(image_files)):\n",
        "        src_path = os.path.join(mask_path, image_files[i])\n",
        "        dst_path = os.path.join(destination_folder_4, image_files[i])\n",
        "        shutil.copy2(src_path, dst_path)"
      ],
      "metadata": {
        "id": "kv2GsvzsxynJ"
      },
      "execution_count": 33,
      "outputs": []
    },
    {
      "cell_type": "code",
      "source": [
        "# Proceed with the processing \n",
        "\n",
        "split_ratio = 0.8\n",
        "\n",
        "list_image_mask = list(os.listdir(image_path))\n",
        "list_random = random.sample(list_image_mask, len(list_image_mask))\n",
        "\n",
        "source_folder = root_path\n",
        "destination_folder_1 = img_target_train\n",
        "destination_folder_2 = img_target_test\n",
        "destination_folder_3 = mask_target_train\n",
        "destination_folder_4 = mask_target_test\n",
        "\n",
        "# Shuffle and split the images\n",
        "shuffle_and_split_images(image_path, mask_path, destination_folder_1, destination_folder_2, destination_folder_3, destination_folder_4, split_ratio, list_random)"
      ],
      "metadata": {
        "id": "P3wD04RZx0pN"
      },
      "execution_count": 34,
      "outputs": []
    },
    {
      "cell_type": "code",
      "source": [
        "# Verifying if split was done correctly\n",
        "for dirpath, dirnames, filenames in os.walk('/content/data/'):\n",
        "  if '/content/data/pet_breeds' not in dirpath:\n",
        "    print(f\"There are {len(dirnames)} directories and {len(filenames)} images in '{dirpath}'.\")"
      ],
      "metadata": {
        "colab": {
          "base_uri": "https://localhost:8080/"
        },
        "id": "CwXAr75dz3sj",
        "outputId": "85ec766b-b91e-4ec2-ea95-08ceb05728d4"
      },
      "execution_count": 38,
      "outputs": [
        {
          "output_type": "stream",
          "name": "stdout",
          "text": [
            "There are 3 directories and 0 images in '/content/data/'.\n",
            "There are 2 directories and 0 images in '/content/data/images'.\n",
            "There are 0 directories and 953 images in '/content/data/images/train'.\n",
            "There are 0 directories and 239 images in '/content/data/images/test'.\n",
            "There are 2 directories and 0 images in '/content/data/mask'.\n",
            "There are 0 directories and 953 images in '/content/data/mask/train'.\n",
            "There are 0 directories and 239 images in '/content/data/mask/test'.\n"
          ]
        }
      ]
    },
    {
      "cell_type": "markdown",
      "source": [
        "953 images and masks for train and 239 for test"
      ],
      "metadata": {
        "id": "KeNATTn8z8La"
      }
    },
    {
      "cell_type": "code",
      "source": [
        "# Standard Procedure to clone back to github. Avoided to show as it contains sensitive info"
      ],
      "metadata": {
        "id": "dppV5mgGx21I"
      },
      "execution_count": 39,
      "outputs": []
    }
  ]
}
